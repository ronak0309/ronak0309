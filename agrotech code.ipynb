{
 "cells": [
  {
   "cell_type": "code",
   "execution_count": 2,
   "id": "ebaba05b",
   "metadata": {},
   "outputs": [],
   "source": [
    "import matplotlib.pyplot as plt\n",
    "%matplotlib inline\n",
    "import numpy as np\n",
    "import pandas as pd\n",
    "import seaborn as sns\n",
    "from datetime import datetime\n",
    "import scipy.stats.stats as s"
   ]
  },
  {
   "cell_type": "code",
   "execution_count": 5,
   "id": "10074399",
   "metadata": {},
   "outputs": [],
   "source": [
    "data = pd.read_excel(\"Data.xlsx\")"
   ]
  },
  {
   "cell_type": "code",
   "execution_count": 6,
   "id": "a2a9fcb4",
   "metadata": {},
   "outputs": [
    {
     "data": {
      "text/html": [
       "<div>\n",
       "<style scoped>\n",
       "    .dataframe tbody tr th:only-of-type {\n",
       "        vertical-align: middle;\n",
       "    }\n",
       "\n",
       "    .dataframe tbody tr th {\n",
       "        vertical-align: top;\n",
       "    }\n",
       "\n",
       "    .dataframe thead th {\n",
       "        text-align: right;\n",
       "    }\n",
       "</style>\n",
       "<table border=\"1\" class=\"dataframe\">\n",
       "  <thead>\n",
       "    <tr style=\"text-align: right;\">\n",
       "      <th></th>\n",
       "      <th>Batch Number</th>\n",
       "      <th>Plant Date</th>\n",
       "      <th>Class</th>\n",
       "      <th>Fresh Weight (g)</th>\n",
       "      <th>Head Weight (g)</th>\n",
       "      <th>Radial Diameter (mm)</th>\n",
       "      <th>Polar Diameter (mm)</th>\n",
       "      <th>Diameter Ratio</th>\n",
       "      <th>Leaves</th>\n",
       "      <th>Density (kg/L)</th>\n",
       "      <th>Leaf Area (cm^2)</th>\n",
       "      <th>Square ID</th>\n",
       "      <th>Check Date</th>\n",
       "      <th>Flight Date</th>\n",
       "      <th>Remove</th>\n",
       "    </tr>\n",
       "  </thead>\n",
       "  <tbody>\n",
       "    <tr>\n",
       "      <th>0</th>\n",
       "      <td>402</td>\n",
       "      <td>2020-04-11</td>\n",
       "      <td>3</td>\n",
       "      <td>15.0</td>\n",
       "      <td>NaN</td>\n",
       "      <td>NaN</td>\n",
       "      <td>NaN</td>\n",
       "      <td>NaN</td>\n",
       "      <td>10.0</td>\n",
       "      <td>NaN</td>\n",
       "      <td>185.0</td>\n",
       "      <td>208</td>\n",
       "      <td>2020-04-30</td>\n",
       "      <td>NaT</td>\n",
       "      <td>NaN</td>\n",
       "    </tr>\n",
       "    <tr>\n",
       "      <th>1</th>\n",
       "      <td>402</td>\n",
       "      <td>2020-04-11</td>\n",
       "      <td>4</td>\n",
       "      <td>15.0</td>\n",
       "      <td>NaN</td>\n",
       "      <td>NaN</td>\n",
       "      <td>NaN</td>\n",
       "      <td>NaN</td>\n",
       "      <td>11.0</td>\n",
       "      <td>NaN</td>\n",
       "      <td>156.0</td>\n",
       "      <td>208</td>\n",
       "      <td>2020-04-30</td>\n",
       "      <td>NaT</td>\n",
       "      <td>NaN</td>\n",
       "    </tr>\n",
       "    <tr>\n",
       "      <th>2</th>\n",
       "      <td>402</td>\n",
       "      <td>2020-04-11</td>\n",
       "      <td>1</td>\n",
       "      <td>16.0</td>\n",
       "      <td>NaN</td>\n",
       "      <td>NaN</td>\n",
       "      <td>NaN</td>\n",
       "      <td>NaN</td>\n",
       "      <td>12.0</td>\n",
       "      <td>NaN</td>\n",
       "      <td>137.0</td>\n",
       "      <td>208</td>\n",
       "      <td>2020-04-30</td>\n",
       "      <td>NaT</td>\n",
       "      <td>NaN</td>\n",
       "    </tr>\n",
       "    <tr>\n",
       "      <th>3</th>\n",
       "      <td>402</td>\n",
       "      <td>2020-04-11</td>\n",
       "      <td>3</td>\n",
       "      <td>15.0</td>\n",
       "      <td>NaN</td>\n",
       "      <td>NaN</td>\n",
       "      <td>NaN</td>\n",
       "      <td>NaN</td>\n",
       "      <td>10.0</td>\n",
       "      <td>NaN</td>\n",
       "      <td>225.0</td>\n",
       "      <td>208</td>\n",
       "      <td>2020-04-30</td>\n",
       "      <td>NaT</td>\n",
       "      <td>NaN</td>\n",
       "    </tr>\n",
       "    <tr>\n",
       "      <th>4</th>\n",
       "      <td>402</td>\n",
       "      <td>2020-04-11</td>\n",
       "      <td>3</td>\n",
       "      <td>15.0</td>\n",
       "      <td>NaN</td>\n",
       "      <td>NaN</td>\n",
       "      <td>NaN</td>\n",
       "      <td>NaN</td>\n",
       "      <td>11.0</td>\n",
       "      <td>NaN</td>\n",
       "      <td>157.0</td>\n",
       "      <td>208</td>\n",
       "      <td>2020-04-30</td>\n",
       "      <td>NaT</td>\n",
       "      <td>NaN</td>\n",
       "    </tr>\n",
       "  </tbody>\n",
       "</table>\n",
       "</div>"
      ],
      "text/plain": [
       "   Batch Number Plant Date  Class  Fresh Weight (g)  Head Weight (g)  \\\n",
       "0           402 2020-04-11      3              15.0              NaN   \n",
       "1           402 2020-04-11      4              15.0              NaN   \n",
       "2           402 2020-04-11      1              16.0              NaN   \n",
       "3           402 2020-04-11      3              15.0              NaN   \n",
       "4           402 2020-04-11      3              15.0              NaN   \n",
       "\n",
       "   Radial Diameter (mm)  Polar Diameter (mm)  Diameter Ratio  Leaves  \\\n",
       "0                   NaN                  NaN             NaN    10.0   \n",
       "1                   NaN                  NaN             NaN    11.0   \n",
       "2                   NaN                  NaN             NaN    12.0   \n",
       "3                   NaN                  NaN             NaN    10.0   \n",
       "4                   NaN                  NaN             NaN    11.0   \n",
       "\n",
       "   Density (kg/L)  Leaf Area (cm^2)  Square ID Check Date Flight Date Remove  \n",
       "0             NaN             185.0        208 2020-04-30         NaT    NaN  \n",
       "1             NaN             156.0        208 2020-04-30         NaT    NaN  \n",
       "2             NaN             137.0        208 2020-04-30         NaT    NaN  \n",
       "3             NaN             225.0        208 2020-04-30         NaT    NaN  \n",
       "4             NaN             157.0        208 2020-04-30         NaT    NaN  "
      ]
     },
     "execution_count": 6,
     "metadata": {},
     "output_type": "execute_result"
    }
   ],
   "source": [
    "data.head()"
   ]
  },
  {
   "cell_type": "code",
   "execution_count": 10,
   "id": "646f5f03",
   "metadata": {},
   "outputs": [],
   "source": [
    "data = data.dropna()"
   ]
  },
  {
   "cell_type": "code",
   "execution_count": 16,
   "id": "318231e5",
   "metadata": {},
   "outputs": [
    {
     "data": {
      "text/plain": [
       "Text(0.5, 1.0, 'Boxplot of category of filming with logarithmic frequency')"
      ]
     },
     "execution_count": 16,
     "metadata": {},
     "output_type": "execute_result"
    },
    {
     "data": {
      "image/png": "[encoded data removed]",
      "text/plain": [
       "<Figure size 648x576 with 1 Axes>"
      ]
     },
     "metadata": {
      "needs_background": "light"
     },
     "output_type": "display_data"
    }
   ],
   "source": [
    "plt.rcParams['figure.figsize'] = (9,8)\n",
    "#Same approach to produce boxplot\n",
    "ax2 = data.Leaves.plot(kind='box',logy=True, color='Green')\n",
    "ax2.set_ylabel('Leaves')\n",
    "plt.title('Boxplot of leaves')"
   ]
  },
  {
   "cell_type": "code",
   "execution_count": null,
   "id": "0940ae88",
   "metadata": {},
   "outputs": [
    {
     "data": {
      "text/plain": [
       "Text(0.5, 1.0, 'Boxplot of category of filming with logarithmic frequency')"
      ]
     },
     "execution_count": 7,
     "metadata": {},
     "output_type": "execute_result"
    }
   ],
   "source": [
    "plt.rcParams['figure.figsize'] = (9,8)\n",
    "#Same approach to produce boxplot\n",
    "ax2 = data.Leaves.plot(kind='box',logy=True, color='Green')\n",
    "ax2.set_ylabel('Leaves')\n",
    "plt.title('Boxplot of Leaves')"
   ]
  },
  {
   "cell_type": "code",
   "execution_count": 17,
   "id": "1c056adf",
   "metadata": {},
   "outputs": [
    {
     "data": {
      "text/plain": [
       "Text(0.5, 0, 'Class')"
      ]
     },
     "execution_count": 17,
     "metadata": {},
     "output_type": "execute_result"
    },
    {
     "data": {
      "image/png": "[encoded data removed]",
      "text/plain": [
       "<Figure size 648x576 with 1 Axes>"
      ]
     },
     "metadata": {
      "needs_background": "light"
     },
     "output_type": "display_data"
    }
   ],
   "source": [
    "plt.scatter(data['Leaf Area (cm^2)'], data['Class'], facecolor='green', alpha=0.4)\n",
    "plt.title('Scatterplot of class')\n",
    "plt.ylabel('Leaf Area (cm^2)')\n",
    "plt.xlabel('Class')"
   ]
  },
  {
   "cell_type": "code",
   "execution_count": null,
   "id": "801d3da0",
   "metadata": {},
   "outputs": [],
   "source": []
  },
  {
   "cell_type": "code",
   "execution_count": null,
   "id": "4698342e",
   "metadata": {},
   "outputs": [],
   "source": []
  }
 ],
 "metadata": {
  "kernelspec": {
   "display_name": "Python 3",
   "language": "python",
   "name": "python3"
  },
  "language_info": {
   "codemirror_mode": {
    "name": "ipython",
    "version": 3
   },
   "file_extension": ".py",
   "mimetype": "text/x-python",
   "name": "python",
   "nbconvert_exporter": "python",
   "pygments_lexer": "ipython3",
   "version": "3.8.8"
  }
 },
 "nbformat": 4,
 "nbformat_minor": 5
}
